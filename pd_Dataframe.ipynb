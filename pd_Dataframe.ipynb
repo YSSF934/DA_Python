{
 "cells": [
  {
   "cell_type": "code",
   "execution_count": 1,
   "id": "c4755383",
   "metadata": {},
   "outputs": [],
   "source": [
    "import pandas as pd"
   ]
  },
  {
   "cell_type": "markdown",
   "id": "efff6d2d",
   "metadata": {},
   "source": [
    "# Pandas Dataframe Creation"
   ]
  },
  {
   "cell_type": "markdown",
   "id": "6af63293",
   "metadata": {},
   "source": [
    "### Think of a Dataframe as the Python version of a spreadsheet.  It stores tabular data."
   ]
  },
  {
   "cell_type": "markdown",
   "id": "da1f1e85",
   "metadata": {},
   "source": [
    "### The first thing we need to do is specify the columns of the Dataframe.  This is done with a list."
   ]
  },
  {
   "cell_type": "code",
   "execution_count": 2,
   "id": "729ca391",
   "metadata": {},
   "outputs": [],
   "source": [
    "# python list my_columns will store the columns names\n",
    "my_columns= ['Ticker','Stock Price', 'Market Cap', 'Number of Shares to Buy']"
   ]
  },
  {
   "cell_type": "markdown",
   "id": "69534cbb",
   "metadata": {},
   "source": [
    "### Now we are going to create a blank Pandas Dataframe called final_dataframe.  Use the pd.Dataframe class instance"
   ]
  },
  {
   "cell_type": "code",
   "execution_count": 3,
   "id": "3b54c80f",
   "metadata": {},
   "outputs": [],
   "source": [
    "final_dataframe= pd.DataFrame(columns = my_columns)"
   ]
  },
  {
   "cell_type": "markdown",
   "id": "76fb3d5b",
   "metadata": {},
   "source": [
    "### You can view the dataframe in two ways"
   ]
  },
  {
   "cell_type": "code",
   "execution_count": 4,
   "id": "013f2a03",
   "metadata": {},
   "outputs": [
    {
     "data": {
      "text/html": [
       "<div>\n",
       "<style scoped>\n",
       "    .dataframe tbody tr th:only-of-type {\n",
       "        vertical-align: middle;\n",
       "    }\n",
       "\n",
       "    .dataframe tbody tr th {\n",
       "        vertical-align: top;\n",
       "    }\n",
       "\n",
       "    .dataframe thead th {\n",
       "        text-align: right;\n",
       "    }\n",
       "</style>\n",
       "<table border=\"1\" class=\"dataframe\">\n",
       "  <thead>\n",
       "    <tr style=\"text-align: right;\">\n",
       "      <th></th>\n",
       "      <th>Ticker</th>\n",
       "      <th>Stock Price</th>\n",
       "      <th>Market Cap</th>\n",
       "      <th>Number of Shares to Buy</th>\n",
       "    </tr>\n",
       "  </thead>\n",
       "  <tbody>\n",
       "  </tbody>\n",
       "</table>\n",
       "</div>"
      ],
      "text/plain": [
       "Empty DataFrame\n",
       "Columns: [Ticker, Stock Price, Market Cap, Number of Shares to Buy]\n",
       "Index: []"
      ]
     },
     "execution_count": 4,
     "metadata": {},
     "output_type": "execute_result"
    }
   ],
   "source": [
    "# view frame\n",
    "final_dataframe"
   ]
  },
  {
   "cell_type": "code",
   "execution_count": 5,
   "id": "9c58e3f4",
   "metadata": {},
   "outputs": [
    {
     "name": "stdout",
     "output_type": "stream",
     "text": [
      "Empty DataFrame\n",
      "Columns: [Ticker, Stock Price, Market Cap, Number of Shares to Buy]\n",
      "Index: []\n"
     ]
    }
   ],
   "source": [
    "# using print statement\n",
    "print(final_dataframe)"
   ]
  },
  {
   "cell_type": "markdown",
   "id": "9e571bb6",
   "metadata": {},
   "source": [
    "### Now that we have our empty dataframe we can populate it with a list of a list"
   ]
  },
  {
   "cell_type": "code",
   "execution_count": 6,
   "id": "ff80966e",
   "metadata": {},
   "outputs": [
    {
     "data": {
      "text/html": [
       "<div>\n",
       "<style scoped>\n",
       "    .dataframe tbody tr th:only-of-type {\n",
       "        vertical-align: middle;\n",
       "    }\n",
       "\n",
       "    .dataframe tbody tr th {\n",
       "        vertical-align: top;\n",
       "    }\n",
       "\n",
       "    .dataframe thead th {\n",
       "        text-align: right;\n",
       "    }\n",
       "</style>\n",
       "<table border=\"1\" class=\"dataframe\">\n",
       "  <thead>\n",
       "    <tr style=\"text-align: right;\">\n",
       "      <th></th>\n",
       "      <th>Ticker</th>\n",
       "      <th>Stock Price</th>\n",
       "      <th>Market Cap</th>\n",
       "      <th>Number of Shares to Buy</th>\n",
       "    </tr>\n",
       "  </thead>\n",
       "  <tbody>\n",
       "    <tr>\n",
       "      <th>0</th>\n",
       "      <td>0</td>\n",
       "      <td>0</td>\n",
       "      <td>0</td>\n",
       "      <td>0</td>\n",
       "    </tr>\n",
       "  </tbody>\n",
       "</table>\n",
       "</div>"
      ],
      "text/plain": [
       "   Ticker  Stock Price  Market Cap  Number of Shares to Buy\n",
       "0       0            0           0                        0"
      ]
     },
     "execution_count": 6,
     "metadata": {},
     "output_type": "execute_result"
    }
   ],
   "source": [
    "final_dataframe= pd.DataFrame([[0,0,0,0]],columns = my_columns)\n",
    "final_dataframe"
   ]
  },
  {
   "cell_type": "markdown",
   "id": "6bd4c743",
   "metadata": {},
   "source": [
    "###  Pandas Dataframe "
   ]
  },
  {
   "cell_type": "code",
   "execution_count": 7,
   "id": "3bd6a61e",
   "metadata": {},
   "outputs": [
    {
     "data": {
      "text/html": [
       "<div>\n",
       "<style scoped>\n",
       "    .dataframe tbody tr th:only-of-type {\n",
       "        vertical-align: middle;\n",
       "    }\n",
       "\n",
       "    .dataframe tbody tr th {\n",
       "        vertical-align: top;\n",
       "    }\n",
       "\n",
       "    .dataframe thead th {\n",
       "        text-align: right;\n",
       "    }\n",
       "</style>\n",
       "<table border=\"1\" class=\"dataframe\">\n",
       "  <thead>\n",
       "    <tr style=\"text-align: right;\">\n",
       "      <th></th>\n",
       "      <th>Ticker</th>\n",
       "      <th>Stock Price</th>\n",
       "      <th>Market Cap</th>\n",
       "      <th>Number of Shares to Buy</th>\n",
       "    </tr>\n",
       "  </thead>\n",
       "  <tbody>\n",
       "    <tr>\n",
       "      <th>0</th>\n",
       "      <td>0</td>\n",
       "      <td>0</td>\n",
       "      <td>0</td>\n",
       "      <td>0</td>\n",
       "    </tr>\n",
       "    <tr>\n",
       "      <th>1</th>\n",
       "      <td>7</td>\n",
       "      <td>7</td>\n",
       "      <td>7</td>\n",
       "      <td>7</td>\n",
       "    </tr>\n",
       "  </tbody>\n",
       "</table>\n",
       "</div>"
      ],
      "text/plain": [
       "   Ticker  Stock Price  Market Cap  Number of Shares to Buy\n",
       "0       0            0           0                        0\n",
       "1       7            7           7                        7"
      ]
     },
     "execution_count": 7,
     "metadata": {},
     "output_type": "execute_result"
    }
   ],
   "source": [
    "final_dataframe= pd.DataFrame([[0,0,0,0],[7,7,7,7]],columns = my_columns)\n",
    "final_dataframe"
   ]
  }
 ],
 "metadata": {
  "kernelspec": {
   "display_name": "Python 3 (ipykernel)",
   "language": "python",
   "name": "python3"
  },
  "language_info": {
   "codemirror_mode": {
    "name": "ipython",
    "version": 3
   },
   "file_extension": ".py",
   "mimetype": "text/x-python",
   "name": "python",
   "nbconvert_exporter": "python",
   "pygments_lexer": "ipython3",
   "version": "3.8.5"
  }
 },
 "nbformat": 4,
 "nbformat_minor": 5
}
